{
 "cells": [
  {
   "attachments": {},
   "cell_type": "markdown",
   "metadata": {},
   "source": [
    "# Load Shedding, Shifting and Elastic Demand"
   ]
  },
  {
   "attachments": {},
   "cell_type": "markdown",
   "metadata": {},
   "source": [
    "This example is a simple illustration that aims to explain the use of load shedding, load shifting and elastic demand in PyPSA. The example is designed to simulate a single day of electrical consumption in a small network with solar generation, which could represent a single house or a small group of houses."
   ]
  },
  {
   "cell_type": "code",
   "execution_count": null,
   "metadata": {},
   "outputs": [],
   "source": [
    "import pypsa\n",
    "import matplotlib.pyplot as plt\n",
    "import numpy as np\n",
    "import pandas as pd"
   ]
  },
  {
   "attachments": {},
   "cell_type": "markdown",
   "metadata": {},
   "source": [
    "## Build example network\n",
    "\n",
    "First, let's start building a minimal example network for which we demonstrate the demand modelling cases.\n",
    "The example network is represented as single bus: \n",
    "- with one PV generator\n",
    "- and one baseload electricity demand profile\n",
    "- between 04:00 - 20:00"
   ]
  },
  {
   "cell_type": "code",
   "execution_count": null,
   "metadata": {},
   "outputs": [],
   "source": [
    "network = pypsa.Network()\n",
    "\n",
    "# Add a bus\n",
    "network.add(\"Bus\", \"My bus\")\n",
    "\n",
    "# Add fuel types\n",
    "network.add(\"Carrier\", \"solar\")\n",
    "network.add(\"Carrier\", \"load\")\n",
    "\n",
    "# Add snapshots to define considered time span\n",
    "network.set_snapshots(pd.date_range(\"2023-01-01 04:00\", \"2023-01-01 20:00\", freq=\"H\"))\n",
    "\n",
    "# Add solar generation\n",
    "pv_pu = [\n",
    "    0.0,\n",
    "    0.0,\n",
    "    0.0,\n",
    "    0.2,\n",
    "    0.4,\n",
    "    0.65,\n",
    "    0.85,\n",
    "    0.9,\n",
    "    0.85,\n",
    "    0.65,\n",
    "    0.4,\n",
    "    0.3,\n",
    "    0.2,\n",
    "    0.1,\n",
    "    0.0,\n",
    "    0.0,\n",
    "    0.0,\n",
    "]\n",
    "\n",
    "# Add solar generation\n",
    "network.add(\n",
    "    \"Generator\",\n",
    "    \"solar\",\n",
    "    bus=\"My bus\",\n",
    "    p_nom=0.4,\n",
    "    carrier=\"solar\",\n",
    "    p_max_pu=pv_pu,\n",
    "    marginal_cost=0.01,\n",
    ")\n",
    "\n",
    "# Add baseload\n",
    "load = pd.Series(0.2, index=range(17))  # constant baseload\n",
    "network.add(\"Load\", \"baseload\", bus=\"My bus\", p_set=load.values)"
   ]
  },
  {
   "attachments": {},
   "cell_type": "markdown",
   "metadata": {},
   "source": [
    "Plotting the minimal example network data, we can see that supply **cannot** equal demand at all time steps. This means that a stable grid operation is not possible."
   ]
  },
  {
   "cell_type": "code",
   "execution_count": null,
   "metadata": {},
   "outputs": [],
   "source": [
    "fig, ax = plt.subplots()\n",
    "\n",
    "(network.generators_t.p_max_pu * network.generators.p_nom).plot(ax=ax)\n",
    "network.loads_t.p_set.plot(ax=ax)\n",
    "\n",
    "ax.set_ylabel(\"Power (MW)\")"
   ]
  },
  {
   "attachments": {},
   "cell_type": "markdown",
   "metadata": {},
   "source": [
    "Trying to optimize this network without any possibility of achieving the energy balance at every time step will lead to a infeasible optimization."
   ]
  },
  {
   "cell_type": "code",
   "execution_count": null,
   "metadata": {},
   "outputs": [],
   "source": [
    "network.optimize()"
   ]
  },
  {
   "attachments": {},
   "cell_type": "markdown",
   "metadata": {},
   "source": [
    "## Load shedding"
   ]
  },
  {
   "attachments": {},
   "cell_type": "markdown",
   "metadata": {},
   "source": [
    "\"Load shedding\" in power networks often happens under extreme conditions, e.g. to prevent network faults. In models, we consider load shedding as extremely expensive and unconstrained generators that can practically decrease the demand to zero. Tip: Load shedding generators are often used to track-down infeasibilities from power shortages (as above) or too tight constraints."
   ]
  },
  {
   "cell_type": "code",
   "execution_count": null,
   "metadata": {},
   "outputs": [],
   "source": [
    "# Add load shedding as generator\n",
    "network.add(\n",
    "    \"Generator\",\n",
    "    \"load shedding\",\n",
    "    bus=\"My bus\",\n",
    "    p_nom=50,\n",
    "    carrier=\"load\",\n",
    "    p_max_pu=1.0,\n",
    "    marginal_cost=1e2,  # 100 €/MWh\n",
    "    p_nom_extendable=True,\n",
    ")"
   ]
  },
  {
   "attachments": {},
   "cell_type": "markdown",
   "metadata": {},
   "source": [
    "After adding load shedding, the optimization will pass as the nodal energy balance is fulfilled"
   ]
  },
  {
   "cell_type": "code",
   "execution_count": null,
   "metadata": {},
   "outputs": [],
   "source": [
    "network.optimize()"
   ]
  },
  {
   "attachments": {},
   "cell_type": "markdown",
   "metadata": {},
   "source": [
    "Looking at the optimization results, the mismatch is exactly compensated by load shedding."
   ]
  },
  {
   "cell_type": "code",
   "execution_count": null,
   "metadata": {},
   "outputs": [],
   "source": [
    "fig, ax = plt.subplots()\n",
    "\n",
    "network.generators_t.p.plot(ax=ax)\n",
    "network.loads_t.p.plot(ax=ax)\n",
    "\n",
    "ax.set_ylabel(\"Power (MW)\")"
   ]
  },
  {
   "attachments": {},
   "cell_type": "markdown",
   "metadata": {},
   "source": [
    "## Load shifting"
   ]
  },
  {
   "attachments": {},
   "cell_type": "markdown",
   "metadata": {},
   "source": [
    "\"Load shifting\" is often used to provide network benefits arising from demand side flexibility. One example application are smart thermostats that can shift the timing of energy use by automatically shifting the **electric** heating or cooling demand from one to another period e.g. from peak to off-peak period. We model load shifting as storage units, which are often described as energy time-shifters."
   ]
  },
  {
   "cell_type": "code",
   "execution_count": null,
   "metadata": {},
   "outputs": [],
   "source": [
    "# add battery as carrier\n",
    "network.add(\"Carrier\", \"thermostat\")\n",
    "\n",
    "# add smart thermostat as storage unit\n",
    "network.add(\n",
    "    \"StorageUnit\",\n",
    "    \"smart thermostat\",\n",
    "    bus=\"My bus\",\n",
    "    p_nom=0,\n",
    "    carrier=\"heat\",\n",
    "    p_nom_extendable=True,\n",
    "    standing_loss=0.01,  # penalize if load shifting is not applied at the first instance of mismatch\n",
    "    cyclic_state_of_charge=True,\n",
    "    max_hours=6,\n",
    ")"
   ]
  },
  {
   "attachments": {},
   "cell_type": "markdown",
   "metadata": {},
   "source": [
    "### Let's solve and plot load shifting and shedding "
   ]
  },
  {
   "cell_type": "code",
   "execution_count": null,
   "metadata": {},
   "outputs": [],
   "source": [
    "network.optimize()"
   ]
  },
  {
   "cell_type": "code",
   "execution_count": null,
   "metadata": {},
   "outputs": [],
   "source": [
    "fig, ax = plt.subplots()\n",
    "\n",
    "network.generators_t.p.plot(ax=ax)\n",
    "network.storage_units_t.p.plot(ax=ax)\n",
    "network.loads_t.p.plot(ax=ax)\n",
    "\n",
    "ax.set_ylabel(\"Power (MW)\")"
   ]
  },
  {
   "attachments": {},
   "cell_type": "markdown",
   "metadata": {},
   "source": [
    "We can observe from the least cost solution the following:\n",
    "- The smart thermostat is increasing the demand during the peak solar generation, to save energy when there is a lack of supply\n",
    "- In the first and last hours of the day, load shedding is applied since there is not enough storage or generation available"
   ]
  },
  {
   "attachments": {},
   "cell_type": "markdown",
   "metadata": {},
   "source": [
    "## Elastic Demand"
   ]
  },
  {
   "attachments": {},
   "cell_type": "markdown",
   "metadata": {},
   "source": [
    "Demand is slightly \"elastic\", meaning consumers would use less energy if its too expensive, or would use more energy if its low costs. Think about yourself. Would you consume less energy if it cost 5x more than today? The elasticity of demand is usually nonlinear and highly depended on individuals. If you are interested to read more into this, [Labandeira et al. (2017)](https://doi.org/10.1016/j.enpol.2017.01.002) surveys 428 papers that use various econometric techniques to evaluate energy demand elasticity to price.\n",
    "\n",
    "We model eleastic demand by:\n",
    "  - using a linear elasticity curve (price & demand relation)\n",
    "  - iteration model runs with updated demands\n",
    "  \n",
    "Note. Demand is model input & the electricity price is the model output. See [here](https://github.com/PyPSA/PyPSA/issues/574) a nice illustration. The below elasticity curve is made up for demonstration purposes."
   ]
  },
  {
   "cell_type": "code",
   "execution_count": null,
   "metadata": {},
   "outputs": [],
   "source": [
    "# assuming a linear demand response to price\n",
    "def elasticity(system_cost_per_MWh):\n",
    "    # y = mx + t\n",
    "    # x = y - t / m\n",
    "    return (system_cost_per_MWh - 120) / -300"
   ]
  },
  {
   "cell_type": "code",
   "execution_count": null,
   "metadata": {},
   "outputs": [],
   "source": [
    "# Define a range of input values\n",
    "x = np.arange(0, 300, 10)\n",
    "\n",
    "# Calculate output values using the elasticity function\n",
    "y = [elasticity(i) for i in x]\n",
    "\n",
    "# Create the plot\n",
    "plt.plot(y, x)\n",
    "plt.xlabel(\"Demand [MWh]\")\n",
    "plt.ylabel(\"Electricity price [Eur/MWh]\")\n",
    "plt.title(\"Random elasticity curve for the example\")\n",
    "plt.xlim([0, 0.5])\n",
    "plt.ylim([0, 150])\n",
    "plt.show()"
   ]
  },
  {
   "attachments": {},
   "cell_type": "markdown",
   "metadata": {},
   "source": [
    "Using the same network as in the previous sections, we perform the iteration:\n",
    "- add demand to network\n",
    "- optimize network to get the system price\n",
    "- update the demand by adding the system price to the elasticity curve"
   ]
  },
  {
   "cell_type": "code",
   "execution_count": null,
   "metadata": {},
   "outputs": [],
   "source": [
    "base_load = 0.2\n",
    "all_networks = []\n",
    "\n",
    "for _ in range(6):\n",
    "    network = network.copy()\n",
    "    load = pd.Series(\n",
    "        base_load, index=range(17)\n",
    "    )  # variable baseload based on base_load_values\n",
    "    network.remove(\"Load\", \"baseload\")\n",
    "    network.add(\"Load\", \"baseload\", bus=\"My bus\", p_set=load.values)\n",
    "    network.lopf()\n",
    "\n",
    "    # Estimated price of the network in euros per MWh\n",
    "    system_cost_per_MWh = (\n",
    "        network.objective + network.objective_constant\n",
    "    ) / network.loads_t.p.sum().sum()\n",
    "\n",
    "    # assuming a linear demand response to price\n",
    "    new_load = elasticity(system_cost_per_MWh)\n",
    "    base_load = new_load\n",
    "\n",
    "    all_networks.append(network)"
   ]
  },
  {
   "attachments": {},
   "cell_type": "markdown",
   "metadata": {},
   "source": [
    "### Let's plot the elastic demand"
   ]
  },
  {
   "cell_type": "code",
   "execution_count": null,
   "metadata": {},
   "outputs": [],
   "source": [
    "### Demand and price values from the created networks\n",
    "average_loads = []\n",
    "prices = []\n",
    "for n in all_networks:\n",
    "    average_loads.append(n.loads_t.p.mean().sum())\n",
    "    prices.append((n.objective + n.objective_constant) / n.loads_t.p.sum().sum())"
   ]
  },
  {
   "cell_type": "code",
   "execution_count": null,
   "metadata": {},
   "outputs": [],
   "source": [
    "first_demand_iteration = average_loads[0]\n",
    "updated_average_loads = average_loads[\n",
    "    1:\n",
    "]  # demand value in first iteration didn't have a price\n",
    "updated_prices = prices[:-1]  # last price value wasn't used\n",
    "\n",
    "# Scatter plot of the points\n",
    "plt.scatter(updated_average_loads, updated_prices, label=\"Elastic demand\")\n",
    "\n",
    "# Add numbers to each point\n",
    "for i, (x, y) in enumerate(zip(updated_average_loads, updated_prices)):\n",
    "    plt.annotate(\n",
    "        \"Iteration \" + str(i + 1),\n",
    "        (x, y),\n",
    "        textcoords=\"offset points\",\n",
    "        xytext=(30, 5),\n",
    "        ha=\"center\",\n",
    "    )\n",
    "\n",
    "# Fit a linear curve to the data\n",
    "slope, intercept = np.polyfit(updated_average_loads, updated_prices, 1)\n",
    "\n",
    "# Linear curve\n",
    "x = np.linspace(min(updated_average_loads), max(updated_average_loads), 100)\n",
    "y = slope * x + intercept\n",
    "plt.plot(x, y, label=f\"Linear curve\", color=\"blue\")\n",
    "\n",
    "plt.xlabel(\"Demand (MWh)\")\n",
    "plt.ylabel(\"Price (Euro/MWh)\")\n",
    "plt.title(\"Elasticity Curve\")\n",
    "plt.legend(loc=\"upper right\")\n",
    "plt.xlim([0.15, 0.35])\n",
    "plt.ylim([35, 60])\n",
    "plt.plot(x, y)\n",
    "plt.show()"
   ]
  },
  {
   "attachments": {},
   "cell_type": "markdown",
   "metadata": {},
   "source": [
    "We can observe from the elastic demand the following:\n",
    "- Our initial average demand estimate of 0.2 MWh lead to a price resulting in more demand -> **iteration 1**.\n",
    "- Using the new demand derieved from the elasticity curve and **iteration 1**, increased the average system price -> **iteration 2**\n",
    "- ...\n",
    "Luckily, after several iterations we observe that the results are **converging.**"
   ]
  },
  {
   "attachments": {},
   "cell_type": "markdown",
   "metadata": {},
   "source": [
    "**Note.** Here we solve the elastic demand as linear programming (LP) problem and several iterations. It is also possible to solve the problem with **one single** optimization run. However, this requires to reformulate the problem as quadratic programming (QP) problem, see [here](https://github.com/PyPSA/PyPSA/issues/574#issuecomment-1451865672). PyPSA can also do that, however, we need to add the QP solving capability to Linopy. This is already tracked as [feature request](https://github.com/PyPSA/linopy/issues/18). Stay tuned!"
   ]
  }
 ],
 "metadata": {
  "kernelspec": {
   "display_name": "",
   "language": "python",
   "name": ""
  },
  "language_info": {
   "codemirror_mode": {
    "name": "ipython",
    "version": 3
   },
   "file_extension": ".py",
   "mimetype": "text/x-python",
   "name": "python",
   "nbconvert_exporter": "python",
   "pygments_lexer": "ipython3",
   "version": "3.10.10"
  }
 },
 "nbformat": 4,
 "nbformat_minor": 4
}
